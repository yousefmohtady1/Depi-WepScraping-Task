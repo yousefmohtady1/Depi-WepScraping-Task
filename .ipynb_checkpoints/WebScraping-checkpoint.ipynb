{
 "cells": [
  {
   "cell_type": "code",
   "execution_count": 8,
   "id": "fccfef50-69a8-4a67-a471-860814f6a7bb",
   "metadata": {},
   "outputs": [],
   "source": [
    "import requests\n",
    "from bs4 import BeautifulSoup\n",
    "import csv"
   ]
  },
  {
   "cell_type": "code",
   "execution_count": 9,
   "id": "fd936215-c4cf-43f3-9715-fc5eab895bf5",
   "metadata": {},
   "outputs": [],
   "source": [
    "url = 'https://baraasalout.github.io/test.html'\n",
    "response = requests.get(url)\n",
    "soup = BeautifulSoup(response.text, 'html.parser')"
   ]
  },
  {
   "cell_type": "code",
   "execution_count": 11,
   "id": "85dc6cda-4d36-4f2f-b3a2-722bca4bee57",
   "metadata": {},
   "outputs": [
    {
     "name": "stdout",
     "output_type": "stream",
     "text": [
      "[<h1>Web Scraping Practice</h1>]\n"
     ]
    }
   ],
   "source": [
    "heading1 = soup.find_all('h1')\n",
    "print(heading1)"
   ]
  },
  {
   "cell_type": "code",
   "execution_count": 12,
   "id": "0f1f403b-07f1-4499-a730-a31a0616ec96",
   "metadata": {},
   "outputs": [
    {
     "name": "stdout",
     "output_type": "stream",
     "text": [
      "[<h2>Available Products</h2>, <h2>Product Table</h2>, <h2>Watch This Video</h2>, <h2>Contact Us</h2>, <h2>Product Information</h2>, <h2>Featured Products</h2>]\n"
     ]
    }
   ],
   "source": [
    "heading2 = soup.find_all('h2')\n",
    "print(heading2)"
   ]
  },
  {
   "cell_type": "code",
   "execution_count": 17,
   "id": "4f5c6b81-8f91-472e-9d7e-410f4e858c0a",
   "metadata": {},
   "outputs": [
    {
     "name": "stdout",
     "output_type": "stream",
     "text": [
      "[<p>Welcome to the web scraping task! Use your skills to extract the required data from this page.</p>, <p><strong>Sharp Objects</strong></p>, <p style=\"color: green;\">£47.82</p>, <p style=\"color: green;\">✔ In stock</p>, <p><strong>In a Dark, Dark Wood</strong></p>, <p style=\"color: green;\">£19.63</p>, <p style=\"color: green;\">✔ In stock</p>, <p><strong>The Past Never Ends</strong></p>, <p style=\"color: green;\">£56.50</p>, <p style=\"color: green;\">✔ In stock</p>, <p><strong>A Murder in Time</strong></p>, <p style=\"color: green;\">£16.64</p>, <p style=\"color: green;\"> Out stock</p>, <p class=\"name\">Wireless Headphones</p>, <p class=\"price\" style=\"display: none;\">$49.99</p>, <p class=\"colors\">Available colors: Black, White, Blue</p>, <p class=\"name\">Smart Speaker</p>, <p class=\"price\" style=\"display: none;\">$89.99</p>, <p class=\"colors\">Available colors: Grey, Black</p>, <p class=\"name\">Smart Watch</p>, <p class=\"price\" style=\"display: none;\">$149.99</p>, <p class=\"colors\">Available colors: Black, Silver, Gold</p>, <p>© 2024 Web Scraping Practice. All Rights Reserved.</p>]\n"
     ]
    }
   ],
   "source": [
    "all_p = soup.find_all('p')\n",
    "print(all_p)"
   ]
  },
  {
   "cell_type": "code",
   "execution_count": 18,
   "id": "29986137-8971-4882-abfd-7d0f9bf6b1f3",
   "metadata": {},
   "outputs": [
    {
     "name": "stdout",
     "output_type": "stream",
     "text": [
      "[<li class=\"highlight\">Laptop</li>, <li>Smartphone</li>, <li>Tablet</li>, <li>Smartwatch</li>]\n"
     ]
    }
   ],
   "source": [
    "all_li = soup.find_all('li')\n",
    "print(all_li)"
   ]
  },
  {
   "cell_type": "code",
   "execution_count": 23,
   "id": "92734a3a-1368-492d-b8c1-17bc1ee7c3eb",
   "metadata": {},
   "outputs": [
    {
     "name": "stdout",
     "output_type": "stream",
     "text": [
      "Welcome to the web scraping task! Use your skills to extract the required data from this page.\n",
      "----------------------------------------\n",
      "Sharp Objects\n",
      "----------------------------------------\n",
      "£47.82\n",
      "----------------------------------------\n",
      "✔ In stock\n",
      "----------------------------------------\n",
      "In a Dark, Dark Wood\n",
      "----------------------------------------\n",
      "£19.63\n",
      "----------------------------------------\n",
      "✔ In stock\n",
      "----------------------------------------\n",
      "The Past Never Ends\n",
      "----------------------------------------\n",
      "£56.50\n",
      "----------------------------------------\n",
      "✔ In stock\n",
      "----------------------------------------\n",
      "A Murder in Time\n",
      "----------------------------------------\n",
      "£16.64\n",
      "----------------------------------------\n",
      " Out stock\n",
      "----------------------------------------\n",
      "Wireless Headphones\n",
      "----------------------------------------\n",
      "$49.99\n",
      "----------------------------------------\n",
      "Available colors: Black, White, Blue\n",
      "----------------------------------------\n",
      "Smart Speaker\n",
      "----------------------------------------\n",
      "$89.99\n",
      "----------------------------------------\n",
      "Available colors: Grey, Black\n",
      "----------------------------------------\n",
      "Smart Watch\n",
      "----------------------------------------\n",
      "$149.99\n",
      "----------------------------------------\n",
      "Available colors: Black, Silver, Gold\n",
      "----------------------------------------\n",
      "© 2024 Web Scraping Practice. All Rights Reserved.\n",
      "----------------------------------------\n"
     ]
    }
   ],
   "source": [
    "for p in all_p:\n",
    "    print(p.get_text())\n",
    "    print(\"-\" * 40)"
   ]
  },
  {
   "cell_type": "code",
   "execution_count": 25,
   "id": "bb5c9819-9f5a-4ac7-a4a9-300f65af36c3",
   "metadata": {},
   "outputs": [
    {
     "name": "stdout",
     "output_type": "stream",
     "text": [
      "Laptop\n",
      "----------------------------------------\n",
      "Smartphone\n",
      "----------------------------------------\n",
      "Tablet\n",
      "----------------------------------------\n",
      "Smartwatch\n",
      "----------------------------------------\n"
     ]
    }
   ],
   "source": [
    "for li in all_li:\n",
    "    print(li.get_text())\n",
    "    print(\"-\" * 40)"
   ]
  },
  {
   "cell_type": "code",
   "execution_count": 50,
   "id": "1cdae917-1702-4621-91ba-75b114416e58",
   "metadata": {},
   "outputs": [],
   "source": [
    "data = []"
   ]
  },
  {
   "cell_type": "code",
   "execution_count": 51,
   "id": "62d85c03-8c23-4610-bb9c-61fbb9642353",
   "metadata": {},
   "outputs": [],
   "source": [
    "for h1 in heading1:\n",
    "    data.append({\"Type\" : \"H1\" ,\"content\" : h1.text})\n",
    "\n",
    "for h2 in heading2:\n",
    "    data.append({\"Type\" : \"H2\" ,\"content\" : h2.text})\n",
    "\n",
    "for p in all_p:\n",
    "    data.append({\"Type\" : \"P\" ,\"content\" : p.text})\n",
    "\n",
    "for li in all_li:\n",
    "    data.append({\"Type\" : \"li\" ,\"content\" : li.text})"
   ]
  },
  {
   "cell_type": "code",
   "execution_count": 52,
   "id": "a3df10f3-9267-4e80-aa0e-63fae9ed6232",
   "metadata": {},
   "outputs": [],
   "source": [
    "with open('Extract_Text_Data.CSV', 'w', newline='',encoding = \"utf8\") as file:\n",
    "    fieldName=[\"Type\", \"content\"]\n",
    "    writer = csv.DictWriter(file, fieldnames = fieldName)\n",
    "    writer.writeheader()\n",
    "    writer.writerows(data)"
   ]
  }
 ],
 "metadata": {
  "kernelspec": {
   "display_name": "Python 3 (ipykernel)",
   "language": "python",
   "name": "python3"
  },
  "language_info": {
   "codemirror_mode": {
    "name": "ipython",
    "version": 3
   },
   "file_extension": ".py",
   "mimetype": "text/x-python",
   "name": "python",
   "nbconvert_exporter": "python",
   "pygments_lexer": "ipython3",
   "version": "3.13.5"
  }
 },
 "nbformat": 4,
 "nbformat_minor": 5
}
