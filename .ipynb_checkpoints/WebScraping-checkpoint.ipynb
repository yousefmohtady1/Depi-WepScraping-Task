{
 "cells": [
  {
   "cell_type": "code",
   "execution_count": 1,
   "id": "fccfef50-69a8-4a67-a471-860814f6a7bb",
   "metadata": {},
   "outputs": [],
   "source": [
    "import requests\n",
    "from bs4 import BeautifulSoup\n",
    "import csv"
   ]
  },
  {
   "cell_type": "code",
   "execution_count": 2,
   "id": "fd936215-c4cf-43f3-9715-fc5eab895bf5",
   "metadata": {},
   "outputs": [],
   "source": [
    "url = 'https://baraasalout.github.io/test.html'\n",
    "response = requests.get(url)\n",
    "soup = BeautifulSoup(response.text, 'html.parser')"
   ]
  },
  {
   "cell_type": "code",
   "execution_count": 3,
   "id": "7bbac6dd-a97a-4d62-8602-2d86a4cb1ace",
   "metadata": {},
   "outputs": [],
   "source": [
    "def ExtractTextData():\n",
    "    heading1 = soup.find_all('h1')\n",
    "    print(heading1)\n",
    "\n",
    "    heading2 = soup.find_all('h2')\n",
    "    print(heading2)\n",
    "\n",
    "    all_p = soup.find_all('p')\n",
    "    print(all_p)\n",
    "\n",
    "    all_li = soup.find_all('li')\n",
    "    print(all_li)\n",
    "\n",
    "    data = []\n",
    "    for h1 in heading1:\n",
    "        data.append({\"Type\" : \"H1\" ,\"content\" : h1.text})\n",
    "    \n",
    "    for h2 in heading2:\n",
    "        data.append({\"Type\" : \"H2\" ,\"content\" : h2.text})\n",
    "    \n",
    "    for p in all_p:\n",
    "        data.append({\"Type\" : \"P\" ,\"content\" : p.text})\n",
    "    \n",
    "    for li in all_li:\n",
    "        data.append({\"Type\" : \"li\" ,\"content\" : li.text})\n",
    "\n",
    "    with open('Extract_Text_Data.CSV', 'w', newline='',encoding = \"utf8\") as file:\n",
    "        fieldName=[\"Type\", \"content\"]\n",
    "        writer = csv.DictWriter(file, fieldnames = fieldName)\n",
    "        writer.writeheader()\n",
    "        writer.writerows(data)"
   ]
  },
  {
   "cell_type": "code",
   "execution_count": null,
   "id": "26427b39-0cf7-4bdc-bee0-499a389d8e58",
   "metadata": {},
   "outputs": [],
   "source": [
    "ExtractTextData()"
   ]
  }
 ],
 "metadata": {
  "kernelspec": {
   "display_name": "Python 3 (ipykernel)",
   "language": "python",
   "name": "python3"
  },
  "language_info": {
   "codemirror_mode": {
    "name": "ipython",
    "version": 3
   },
   "file_extension": ".py",
   "mimetype": "text/x-python",
   "name": "python",
   "nbconvert_exporter": "python",
   "pygments_lexer": "ipython3",
   "version": "3.13.5"
  }
 },
 "nbformat": 4,
 "nbformat_minor": 5
}
