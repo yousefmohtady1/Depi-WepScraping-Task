{
 "cells": [
  {
   "cell_type": "code",
   "execution_count": 1,
   "id": "fccfef50-69a8-4a67-a471-860814f6a7bb",
   "metadata": {},
   "outputs": [],
   "source": [
    "import requests\n",
    "from bs4 import BeautifulSoup\n",
    "import csv\n",
    "import json"
   ]
  },
  {
   "cell_type": "code",
   "execution_count": 2,
   "id": "fd936215-c4cf-43f3-9715-fc5eab895bf5",
   "metadata": {},
   "outputs": [],
   "source": [
    "url = 'https://baraasalout.github.io/test.html'\n",
    "response = requests.get(url)\n",
    "soup = BeautifulSoup(response.text, 'html.parser')"
   ]
  },
  {
   "cell_type": "code",
   "execution_count": 3,
   "id": "7bbac6dd-a97a-4d62-8602-2d86a4cb1ace",
   "metadata": {},
   "outputs": [],
   "source": [
    "def ExtractTextData():\n",
    "    heading1 = soup.find_all('h1')\n",
    "    print(heading1)\n",
    "    print(\"-\"*100)\n",
    "\n",
    "    heading2 = soup.find_all('h2')\n",
    "    print(heading2)\n",
    "    print(\"-\"*100)\n",
    "\n",
    "    all_p = soup.find_all('p')\n",
    "    print(all_p)\n",
    "    print(\"-\"*100)\n",
    "\n",
    "    all_li = soup.find_all('li')\n",
    "    print(all_li)\n",
    "    print(\"-\"*100)\n",
    "\n",
    "    data = []\n",
    "    for h1 in heading1:\n",
    "        data.append({\"Type\" : \"H1\" ,\"content\" : h1.text})\n",
    "    \n",
    "    for h2 in heading2:\n",
    "        data.append({\"Type\" : \"H2\" ,\"content\" : h2.text})\n",
    "    \n",
    "    for p in all_p:\n",
    "        data.append({\"Type\" : \"P\" ,\"content\" : p.text})\n",
    "    \n",
    "    for li in all_li:\n",
    "        data.append({\"Type\" : \"li\" ,\"content\" : li.text})\n",
    "\n",
    "    with open('Extract_Text_Data.CSV', 'w', newline='',encoding = \"utf8\") as file:\n",
    "        fieldName=[\"Type\", \"content\"]\n",
    "        writer = csv.DictWriter(file, fieldnames = fieldName)\n",
    "        writer.writeheader()\n",
    "        writer.writerows(data)"
   ]
  },
  {
   "cell_type": "code",
   "execution_count": 4,
   "id": "26427b39-0cf7-4bdc-bee0-499a389d8e58",
   "metadata": {},
   "outputs": [
    {
     "name": "stdout",
     "output_type": "stream",
     "text": [
      "[<h1>Web Scraping Practice</h1>]\n",
      "----------------------------------------------------------------------------------------------------\n",
      "[<h2>Available Products</h2>, <h2>Product Table</h2>, <h2>Watch This Video</h2>, <h2>Contact Us</h2>, <h2>Product Information</h2>, <h2>Featured Products</h2>]\n",
      "----------------------------------------------------------------------------------------------------\n",
      "[<p>Welcome to the web scraping task! Use your skills to extract the required data from this page.</p>, <p><strong>Sharp Objects</strong></p>, <p style=\"color: green;\">£47.82</p>, <p style=\"color: green;\">✔ In stock</p>, <p><strong>In a Dark, Dark Wood</strong></p>, <p style=\"color: green;\">£19.63</p>, <p style=\"color: green;\">✔ In stock</p>, <p><strong>The Past Never Ends</strong></p>, <p style=\"color: green;\">£56.50</p>, <p style=\"color: green;\">✔ In stock</p>, <p><strong>A Murder in Time</strong></p>, <p style=\"color: green;\">£16.64</p>, <p style=\"color: green;\"> Out stock</p>, <p class=\"name\">Wireless Headphones</p>, <p class=\"price\" style=\"display: none;\">$49.99</p>, <p class=\"colors\">Available colors: Black, White, Blue</p>, <p class=\"name\">Smart Speaker</p>, <p class=\"price\" style=\"display: none;\">$89.99</p>, <p class=\"colors\">Available colors: Grey, Black</p>, <p class=\"name\">Smart Watch</p>, <p class=\"price\" style=\"display: none;\">$149.99</p>, <p class=\"colors\">Available colors: Black, Silver, Gold</p>, <p>© 2024 Web Scraping Practice. All Rights Reserved.</p>]\n",
      "----------------------------------------------------------------------------------------------------\n",
      "[<li class=\"highlight\">Laptop</li>, <li>Smartphone</li>, <li>Tablet</li>, <li>Smartwatch</li>]\n",
      "----------------------------------------------------------------------------------------------------\n"
     ]
    }
   ],
   "source": [
    "ExtractTextData()"
   ]
  },
  {
   "cell_type": "code",
   "execution_count": 5,
   "id": "84831c46-f790-4c5c-b8ad-916c59764e96",
   "metadata": {},
   "outputs": [],
   "source": [
    "def ExtractTableData():\n",
    "    table = soup.find('table')\n",
    "    rows = table.find_all('tr')\n",
    "    print(table)\n",
    "\n",
    "    data = []\n",
    "    for row in rows[1:]:\n",
    "        collums = row.find_all('td')\n",
    "        product = collums[0].text\n",
    "        price = collums[1].text\n",
    "        inStock = collums[2].text\n",
    "        data.append({\"Prouduct\" : product, \"Price\" : price, \"InStock\" : inStock})\n",
    "\n",
    "    with open('Extract_Table_Data.CSV', 'w', newline='',encoding = \"utf8\") as file:\n",
    "        fieldName=[\"Prouduct\", \"Price\", \"InStock\"]\n",
    "        writer = csv.DictWriter(file, fieldnames = fieldName)\n",
    "        writer.writeheader()\n",
    "        writer.writerows(data)"
   ]
  },
  {
   "cell_type": "code",
   "execution_count": 6,
   "id": "c2a67487-19c4-4fe5-b0f9-904dd2fc5f38",
   "metadata": {},
   "outputs": [
    {
     "name": "stdout",
     "output_type": "stream",
     "text": [
      "<table>\n",
      "<tr>\n",
      "<th>Product</th>\n",
      "<th>Price</th>\n",
      "<th>In Stock</th>\n",
      "</tr>\n",
      "<tr>\n",
      "<td>Laptop</td>\n",
      "<td>$1000</td>\n",
      "<td>Yes</td>\n",
      "</tr>\n",
      "<tr>\n",
      "<td>Smartphone</td>\n",
      "<td>$800</td>\n",
      "<td>No</td>\n",
      "</tr>\n",
      "<tr>\n",
      "<td>Tablet</td>\n",
      "<td>$500</td>\n",
      "<td>Yes</td>\n",
      "</tr>\n",
      "</table>\n"
     ]
    }
   ],
   "source": [
    "ExtractTableData()"
   ]
  },
  {
   "cell_type": "code",
   "execution_count": 9,
   "id": "ff039823-d54f-44b2-89cf-a7ecd8f90cb5",
   "metadata": {},
   "outputs": [],
   "source": [
    "def ExtractProductInformation():\n",
    "    bigDiv = soup.find('div', attrs = {'class' : 'book-products'})\n",
    "    print(bigDiv)\n",
    "    print(\"-\"*100)\n",
    "    \n",
    "    divs = bigDiv.find_all('div')\n",
    "    print(divs)\n",
    "    print(\"-\"*100)\n",
    "    \n",
    "    data = []\n",
    "\n",
    "    for div in divs:\n",
    "        cells = div.find_all('p')\n",
    "        buttons = div.find_all('button')\n",
    "        \n",
    "        bookTitle = cells[0].text\n",
    "        price = cells[1].text\n",
    "        inStock = cells[2].text\n",
    "        buttonText = buttons[0].text\n",
    "\n",
    "        data.append({\"Book Title\" : bookTitle, \"Price\" : price, \"Stock Availability\" : inStock, \"Action\" : buttonText})\n",
    "        \n",
    "    with open('Extract_Product_Information.json', 'w', encoding = \"utf8\") as file:\n",
    "        json.dump(data, file)"
   ]
  },
  {
   "cell_type": "code",
   "execution_count": 11,
   "id": "2771a778-221a-4334-9eed-b0de3353312b",
   "metadata": {},
   "outputs": [
    {
     "name": "stdout",
     "output_type": "stream",
     "text": [
      "<div class=\"book-products\" style=\"display: flex; justify-content: space-around; margin-top: 20px;\">\n",
      "<div style=\"text-align: center; width: 200px; border: 1px solid #ddd; padding: 10px; border-radius: 5px;\">\n",
      "<img alt=\"Sharp Objects\" src=\"http://books.toscrape.com/media/cache/26/0c/260c6ae16bce31c8f8c95daddd9f4a1c.jpg\" style=\"width: 100%; height: auto; border-radius: 5px;\"/>\n",
      "<p><strong>Sharp Objects</strong></p>\n",
      "<p style=\"color: green;\">£47.82</p>\n",
      "<p style=\"color: green;\">✔ In stock</p>\n",
      "<button style=\"background-color: blue; color: white; border: none; padding: 10px 15px; border-radius: 5px; cursor: pointer;\">Add to basket</button>\n",
      "</div>\n",
      "<div style=\"text-align: center; width: 200px; border: 1px solid #ddd; padding: 10px; border-radius: 5px;\">\n",
      "<img alt=\"In a Dark, Dark Wood\" src=\"http://books.toscrape.com/media/cache/92/27/92274a95b7c251fea59a2b8a78275ab4.jpg\" style=\"width: 100%; height: auto; border-radius: 5px;\"/>\n",
      "<p><strong>In a Dark, Dark Wood</strong></p>\n",
      "<p style=\"color: green;\">£19.63</p>\n",
      "<p style=\"color: green;\">✔ In stock</p>\n",
      "<button style=\"background-color: blue; color: white; border: none; padding: 10px 15px; border-radius: 5px; cursor: pointer;\">Add to basket</button>\n",
      "</div>\n",
      "<div style=\"text-align: center; width: 200px; border: 1px solid #ddd; padding: 10px; border-radius: 5px;\">\n",
      "<img alt=\"The Past Never Ends\" src=\"http://books.toscrape.com/media/cache/c0/59/c05972805aa7201171b8fc71a5b00292.jpg\" style=\"width: 100%; height: auto; border-radius: 5px;\"/>\n",
      "<p><strong>The Past Never Ends</strong></p>\n",
      "<p style=\"color: green;\">£56.50</p>\n",
      "<p style=\"color: green;\">✔ In stock</p>\n",
      "<button style=\"background-color: blue; color: white; border: none; padding: 10px 15px; border-radius: 5px; cursor: pointer;\">Add to basket</button>\n",
      "</div>\n",
      "<div style=\"text-align: center; width: 200px; border: 1px solid #ddd; padding: 10px; border-radius: 5px;\">\n",
      "<img alt=\"A Murder in Time\" src=\"http://books.toscrape.com/media/cache/97/27/97275841c81e66d53bf9313cba06f23e.jpg\" style=\"width: 100%; height: auto; border-radius: 5px;\"/>\n",
      "<p><strong>A Murder in Time</strong></p>\n",
      "<p style=\"color: green;\">£16.64</p>\n",
      "<p style=\"color: green;\"> Out stock</p>\n",
      "<button style=\"background-color: blue; color: white; border: none; padding: 10px 15px; border-radius: 5px; cursor: pointer;\">Add to basket</button>\n",
      "</div>\n",
      "</div>\n",
      "----------------------------------------------------------------------------------------------------\n",
      "[<div style=\"text-align: center; width: 200px; border: 1px solid #ddd; padding: 10px; border-radius: 5px;\">\n",
      "<img alt=\"Sharp Objects\" src=\"http://books.toscrape.com/media/cache/26/0c/260c6ae16bce31c8f8c95daddd9f4a1c.jpg\" style=\"width: 100%; height: auto; border-radius: 5px;\"/>\n",
      "<p><strong>Sharp Objects</strong></p>\n",
      "<p style=\"color: green;\">£47.82</p>\n",
      "<p style=\"color: green;\">✔ In stock</p>\n",
      "<button style=\"background-color: blue; color: white; border: none; padding: 10px 15px; border-radius: 5px; cursor: pointer;\">Add to basket</button>\n",
      "</div>, <div style=\"text-align: center; width: 200px; border: 1px solid #ddd; padding: 10px; border-radius: 5px;\">\n",
      "<img alt=\"In a Dark, Dark Wood\" src=\"http://books.toscrape.com/media/cache/92/27/92274a95b7c251fea59a2b8a78275ab4.jpg\" style=\"width: 100%; height: auto; border-radius: 5px;\"/>\n",
      "<p><strong>In a Dark, Dark Wood</strong></p>\n",
      "<p style=\"color: green;\">£19.63</p>\n",
      "<p style=\"color: green;\">✔ In stock</p>\n",
      "<button style=\"background-color: blue; color: white; border: none; padding: 10px 15px; border-radius: 5px; cursor: pointer;\">Add to basket</button>\n",
      "</div>, <div style=\"text-align: center; width: 200px; border: 1px solid #ddd; padding: 10px; border-radius: 5px;\">\n",
      "<img alt=\"The Past Never Ends\" src=\"http://books.toscrape.com/media/cache/c0/59/c05972805aa7201171b8fc71a5b00292.jpg\" style=\"width: 100%; height: auto; border-radius: 5px;\"/>\n",
      "<p><strong>The Past Never Ends</strong></p>\n",
      "<p style=\"color: green;\">£56.50</p>\n",
      "<p style=\"color: green;\">✔ In stock</p>\n",
      "<button style=\"background-color: blue; color: white; border: none; padding: 10px 15px; border-radius: 5px; cursor: pointer;\">Add to basket</button>\n",
      "</div>, <div style=\"text-align: center; width: 200px; border: 1px solid #ddd; padding: 10px; border-radius: 5px;\">\n",
      "<img alt=\"A Murder in Time\" src=\"http://books.toscrape.com/media/cache/97/27/97275841c81e66d53bf9313cba06f23e.jpg\" style=\"width: 100%; height: auto; border-radius: 5px;\"/>\n",
      "<p><strong>A Murder in Time</strong></p>\n",
      "<p style=\"color: green;\">£16.64</p>\n",
      "<p style=\"color: green;\"> Out stock</p>\n",
      "<button style=\"background-color: blue; color: white; border: none; padding: 10px 15px; border-radius: 5px; cursor: pointer;\">Add to basket</button>\n",
      "</div>]\n",
      "----------------------------------------------------------------------------------------------------\n"
     ]
    }
   ],
   "source": [
    "ExtractProductInformation()"
   ]
  },
  {
   "cell_type": "code",
   "execution_count": 17,
   "id": "6235207c-88f1-4a1e-9a29-5b7ef7bd999b",
   "metadata": {},
   "outputs": [],
   "source": [
    "def ExtractFormDetails():\n",
    "    form = soup.find('form')\n",
    "    print(form)\n",
    "    print(\"-\"*100)\n",
    "    \n",
    "    inputs = form.find_all('input')\n",
    "    print(inputs)\n",
    "    print(\"-\"*100)\n",
    "    \n",
    "    data = []\n",
    "    for i in inputs:\n",
    "        name = i.get('name', '')\n",
    "        inputType = i.get('type', '')\n",
    "        value = i.get('value', '')\n",
    "\n",
    "        data.append({\"Name\" : name, \"Input Type\" : inputType, \"Value\" : value})\n",
    "\n",
    "        with open('Extract_Form_Details.json', 'w', encoding = \"utf8\") as file:\n",
    "            json.dump(data, file)"
   ]
  },
  {
   "cell_type": "code",
   "execution_count": 18,
   "id": "7d5e2a2d-c571-48e3-a8d3-aed87381a04c",
   "metadata": {},
   "outputs": [
    {
     "name": "stdout",
     "output_type": "stream",
     "text": [
      "<form>\n",
      "<label for=\"username\">Username:</label>\n",
      "<input id=\"username\" name=\"username\" placeholder=\"Enter your username\" type=\"text\"/>\n",
      "<label for=\"password\">Password:</label>\n",
      "<input id=\"password\" name=\"password\" placeholder=\"Enter your password\" type=\"password\"/>\n",
      "<label for=\"options\">Choose an option:</label>\n",
      "<select id=\"options\" name=\"options\">\n",
      "<option value=\"option1\">Option 1</option>\n",
      "<option value=\"option2\">Option 2</option>\n",
      "<option value=\"option3\">Option 3</option>\n",
      "</select>\n",
      "<label>\n",
      "<input name=\"terms\" type=\"checkbox\"/> I agree to the terms and conditions\n",
      "            </label>\n",
      "<input type=\"submit\" value=\"Submit\"/>\n",
      "</form>\n",
      "----------------------------------------------------------------------------------------------------\n",
      "[<input id=\"username\" name=\"username\" placeholder=\"Enter your username\" type=\"text\"/>, <input id=\"password\" name=\"password\" placeholder=\"Enter your password\" type=\"password\"/>, <input name=\"terms\" type=\"checkbox\"/>, <input type=\"submit\" value=\"Submit\"/>]\n",
      "----------------------------------------------------------------------------------------------------\n"
     ]
    }
   ],
   "source": [
    "ExtractFormDetails()"
   ]
  },
  {
   "cell_type": "code",
   "execution_count": 31,
   "id": "7b831ce4-8cf7-43dc-8795-936dc0e77d9f",
   "metadata": {},
   "outputs": [],
   "source": [
    "def ExtractLinksAndMultimedia():\n",
    "    links = soup.find_all('a')\n",
    "    print(links)\n",
    "    print(\"-\"*100)\n",
    "    linksData = []\n",
    "    for link in links:\n",
    "        text = link.text\n",
    "        url = link.get('href', '')\n",
    "        linksData.append({\"Link Text\" : text, \"Url\" : url})\n",
    "\n",
    "    videos = soup.find_all('iframe')\n",
    "    print(videos)\n",
    "    print(\"-\"*100)\n",
    "    videosData = []\n",
    "    for video in videos:\n",
    "        text = video.text\n",
    "        url = video.get('src', '')\n",
    "        videosData.append({\"Link Text\" : text, \"Url\" : url})\n",
    "\n",
    "    with open('Extract_Links_and_Multimedia.json', 'w', encoding = \"utf8\") as file:\n",
    "            json.dump(linksData, file)\n",
    "            json.dump(videosData, file)"
   ]
  },
  {
   "cell_type": "code",
   "execution_count": 32,
   "id": "d205e477-f934-4b1b-a089-fec3f15a4ada",
   "metadata": {},
   "outputs": [
    {
     "name": "stdout",
     "output_type": "stream",
     "text": [
      "[]\n",
      "----------------------------------------------------------------------------------------------------\n",
      "[<iframe height=\"315\" src=\"https://www.youtube.com/watch?v=ujf9RNuBdCU\" width=\"560\"></iframe>]\n",
      "----------------------------------------------------------------------------------------------------\n"
     ]
    }
   ],
   "source": [
    "ExtractLinksAndMultimedia()"
   ]
  },
  {
   "cell_type": "code",
   "execution_count": 39,
   "id": "e588e7a0-efc8-4a21-b594-d25297ae48da",
   "metadata": {},
   "outputs": [],
   "source": [
    "def ScrapingChallenge():\n",
    "    bigDiv = soup.find('div', attrs = {'class' : 'products'})\n",
    "    # print(bigDiv)\n",
    "    print(\"-\"*100)\n",
    "\n",
    "    divs = bigDiv.find_all('div')\n",
    "    print(divs)\n",
    "    print(\"-\"*100)\n",
    "\n",
    "    paragraphs = divs.find_all('p')\n",
    "    print(paragraphs)\n",
    "    print(\"-\"*100)"
   ]
  },
  {
   "cell_type": "code",
   "execution_count": 40,
   "id": "be432448-6407-4f42-9329-ab0205b3eab1",
   "metadata": {},
   "outputs": [
    {
     "name": "stdout",
     "output_type": "stream",
     "text": [
      "----------------------------------------------------------------------------------------------------\n",
      "[<div class=\"product-card\" data-id=\"101\">\n",
      "<img alt=\"Wireless Headphones\" src=\"https://via.placeholder.com/250x150?text=Product+1\"/>\n",
      "<p class=\"name\">Wireless Headphones</p>\n",
      "<p class=\"price\" style=\"display: none;\">$49.99</p>\n",
      "<p class=\"colors\">Available colors: Black, White, Blue</p>\n",
      "<button>Add to Basket</button>\n",
      "</div>, <div class=\"product-card\" data-id=\"102\">\n",
      "<img alt=\"Smart Speaker\" src=\"https://via.placeholder.com/250x150?text=Product+2\"/>\n",
      "<p class=\"name\">Smart Speaker</p>\n",
      "<p class=\"price\" style=\"display: none;\">$89.99</p>\n",
      "<p class=\"colors\">Available colors: Grey, Black</p>\n",
      "<button>Add to Basket</button>\n",
      "</div>, <div class=\"product-card\" data-id=\"103\">\n",
      "<img alt=\"Smart Watch\" src=\"https://via.placeholder.com/250x150?text=Product+3\"/>\n",
      "<p class=\"name\">Smart Watch</p>\n",
      "<p class=\"price\" style=\"display: none;\">$149.99</p>\n",
      "<p class=\"colors\">Available colors: Black, Silver, Gold</p>\n",
      "<button>Add to Basket</button>\n",
      "</div>]\n",
      "----------------------------------------------------------------------------------------------------\n"
     ]
    }
   ],
   "source": [
    "ScrapingChallenge()"
   ]
  }
 ],
 "metadata": {
  "kernelspec": {
   "display_name": "Python 3 (ipykernel)",
   "language": "python",
   "name": "python3"
  },
  "language_info": {
   "codemirror_mode": {
    "name": "ipython",
    "version": 3
   },
   "file_extension": ".py",
   "mimetype": "text/x-python",
   "name": "python",
   "nbconvert_exporter": "python",
   "pygments_lexer": "ipython3",
   "version": "3.13.5"
  }
 },
 "nbformat": 4,
 "nbformat_minor": 5
}
