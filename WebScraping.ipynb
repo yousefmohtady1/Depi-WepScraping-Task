{
 "cells": [
  {
   "cell_type": "code",
   "execution_count": 1,
   "id": "fccfef50-69a8-4a67-a471-860814f6a7bb",
   "metadata": {},
   "outputs": [],
   "source": [
    "import requests\n",
    "from bs4 import BeautifulSoup\n",
    "import csv"
   ]
  },
  {
   "cell_type": "code",
   "execution_count": 2,
   "id": "fd936215-c4cf-43f3-9715-fc5eab895bf5",
   "metadata": {},
   "outputs": [],
   "source": [
    "url = 'https://baraasalout.github.io/test.html'\n",
    "response = requests.get(url)\n",
    "soup = BeautifulSoup(response.text, 'html.parser')"
   ]
  },
  {
   "cell_type": "code",
   "execution_count": 3,
   "id": "7bbac6dd-a97a-4d62-8602-2d86a4cb1ace",
   "metadata": {},
   "outputs": [],
   "source": [
    "def ExtractTextData():\n",
    "    heading1 = soup.find_all('h1')\n",
    "    print(heading1)\n",
    "    print(\"-\"*100)\n",
    "\n",
    "    heading2 = soup.find_all('h2')\n",
    "    print(heading2)\n",
    "    print(\"-\"*100)\n",
    "\n",
    "    all_p = soup.find_all('p')\n",
    "    print(all_p)\n",
    "    print(\"-\"*100)\n",
    "\n",
    "    all_li = soup.find_all('li')\n",
    "    print(all_li)\n",
    "    print(\"-\"*100)\n",
    "\n",
    "    data = []\n",
    "    for h1 in heading1:\n",
    "        data.append({\"Type\" : \"H1\" ,\"content\" : h1.text})\n",
    "    \n",
    "    for h2 in heading2:\n",
    "        data.append({\"Type\" : \"H2\" ,\"content\" : h2.text})\n",
    "    \n",
    "    for p in all_p:\n",
    "        data.append({\"Type\" : \"P\" ,\"content\" : p.text})\n",
    "    \n",
    "    for li in all_li:\n",
    "        data.append({\"Type\" : \"li\" ,\"content\" : li.text})\n",
    "\n",
    "    with open('Extract_Text_Data.CSV', 'w', newline='',encoding = \"utf8\") as file:\n",
    "        fieldName=[\"Type\", \"content\"]\n",
    "        writer = csv.DictWriter(file, fieldnames = fieldName)\n",
    "        writer.writeheader()\n",
    "        writer.writerows(data)"
   ]
  },
  {
   "cell_type": "code",
   "execution_count": 4,
   "id": "26427b39-0cf7-4bdc-bee0-499a389d8e58",
   "metadata": {},
   "outputs": [
    {
     "name": "stdout",
     "output_type": "stream",
     "text": [
      "[<h1>Web Scraping Practice</h1>]\n",
      "----------------------------------------------------------------------------------------------------\n",
      "[<h2>Available Products</h2>, <h2>Product Table</h2>, <h2>Watch This Video</h2>, <h2>Contact Us</h2>, <h2>Product Information</h2>, <h2>Featured Products</h2>]\n",
      "----------------------------------------------------------------------------------------------------\n",
      "[<p>Welcome to the web scraping task! Use your skills to extract the required data from this page.</p>, <p><strong>Sharp Objects</strong></p>, <p style=\"color: green;\">£47.82</p>, <p style=\"color: green;\">✔ In stock</p>, <p><strong>In a Dark, Dark Wood</strong></p>, <p style=\"color: green;\">£19.63</p>, <p style=\"color: green;\">✔ In stock</p>, <p><strong>The Past Never Ends</strong></p>, <p style=\"color: green;\">£56.50</p>, <p style=\"color: green;\">✔ In stock</p>, <p><strong>A Murder in Time</strong></p>, <p style=\"color: green;\">£16.64</p>, <p style=\"color: green;\"> Out stock</p>, <p class=\"name\">Wireless Headphones</p>, <p class=\"price\" style=\"display: none;\">$49.99</p>, <p class=\"colors\">Available colors: Black, White, Blue</p>, <p class=\"name\">Smart Speaker</p>, <p class=\"price\" style=\"display: none;\">$89.99</p>, <p class=\"colors\">Available colors: Grey, Black</p>, <p class=\"name\">Smart Watch</p>, <p class=\"price\" style=\"display: none;\">$149.99</p>, <p class=\"colors\">Available colors: Black, Silver, Gold</p>, <p>© 2024 Web Scraping Practice. All Rights Reserved.</p>]\n",
      "----------------------------------------------------------------------------------------------------\n",
      "[<li class=\"highlight\">Laptop</li>, <li>Smartphone</li>, <li>Tablet</li>, <li>Smartwatch</li>]\n",
      "----------------------------------------------------------------------------------------------------\n"
     ]
    }
   ],
   "source": [
    "ExtractTextData()"
   ]
  }
 ],
 "metadata": {
  "kernelspec": {
   "display_name": "Python 3 (ipykernel)",
   "language": "python",
   "name": "python3"
  },
  "language_info": {
   "codemirror_mode": {
    "name": "ipython",
    "version": 3
   },
   "file_extension": ".py",
   "mimetype": "text/x-python",
   "name": "python",
   "nbconvert_exporter": "python",
   "pygments_lexer": "ipython3",
   "version": "3.13.5"
  }
 },
 "nbformat": 4,
 "nbformat_minor": 5
}
